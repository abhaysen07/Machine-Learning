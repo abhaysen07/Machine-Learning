{
 "cells": [
  {
   "cell_type": "code",
   "execution_count": null,
   "id": "03124804",
   "metadata": {},
   "outputs": [],
   "source": [
    "import os\n",
    "os.chdir(\"D:/abhis/Downloads/PRCP-1000-ProtugeseBank/Data/bank-additional/\")"
   ]
  },
  {
   "cell_type": "markdown",
   "id": "c1416792",
   "metadata": {},
   "source": [
    "# Importing All Libraries"
   ]
  },
  {
   "cell_type": "code",
   "execution_count": null,
   "id": "362823cb",
   "metadata": {},
   "outputs": [],
   "source": [
    "import numpy as np\n",
    "from scipy import stats\n",
    "import pandas as pd\n",
    "import warnings\n",
    "import seaborn as sns\n",
    "from sklearn.metrics import confusion_matrix,accuracy_score,f1_score,precision_score,recall_score\n",
    "from sklearn.model_selection import train_test_split\n",
    "from sklearn.preprocessing import LabelEncoder\n",
    "from sklearn.preprocessing import OneHotEncoder\n",
    "import matplotlib.pyplot as plt\n",
    "from sklearn.preprocessing import StandardScaler\n",
    "from sklearn.neighbors import KNeighborsClassifier\n",
    "from sklearn.svm import SVC\n",
    "from sklearn.naive_bayes import GaussianNB\n",
    "from sklearn.tree import DecisionTreeClassifier\n",
    "from sklearn.ensemble import RandomForestClassifier\n",
    "warnings.filterwarnings(\"ignore\")"
   ]
  },
  {
   "cell_type": "markdown",
   "id": "b9e24b74",
   "metadata": {},
   "source": [
    "# Reading Dataset"
   ]
  },
  {
   "cell_type": "code",
   "execution_count": null,
   "id": "fca5e874",
   "metadata": {},
   "outputs": [],
   "source": [
    "data = pd.read_csv(\"bank-additional-full.csv\",delimiter=\";\")"
   ]
  },
  {
   "cell_type": "code",
   "execution_count": null,
   "id": "9aa7e73d",
   "metadata": {},
   "outputs": [],
   "source": [
    "data"
   ]
  },
  {
   "cell_type": "markdown",
   "id": "638e49c2",
   "metadata": {},
   "source": [
    "Shape of Dataset"
   ]
  },
  {
   "cell_type": "code",
   "execution_count": null,
   "id": "83762a53",
   "metadata": {},
   "outputs": [],
   "source": [
    "data.shape"
   ]
  },
  {
   "cell_type": "markdown",
   "id": "657a419d",
   "metadata": {},
   "source": [
    "Information Of Dataset"
   ]
  },
  {
   "cell_type": "code",
   "execution_count": null,
   "id": "dabd1db2",
   "metadata": {},
   "outputs": [],
   "source": [
    "data.info()"
   ]
  },
  {
   "cell_type": "markdown",
   "id": "4867cc94",
   "metadata": {},
   "source": [
    "Description Of Dataset"
   ]
  },
  {
   "cell_type": "code",
   "execution_count": null,
   "id": "e7fa06b9",
   "metadata": {},
   "outputs": [],
   "source": [
    "data.describe()"
   ]
  },
  {
   "cell_type": "markdown",
   "id": "aacbf419",
   "metadata": {},
   "source": [
    "# Correlation Between Dataset"
   ]
  },
  {
   "cell_type": "code",
   "execution_count": null,
   "id": "6f2b4a2a",
   "metadata": {},
   "outputs": [],
   "source": [
    "data.corr()"
   ]
  },
  {
   "cell_type": "markdown",
   "id": "370c9c69",
   "metadata": {},
   "source": [
    "# Names of columns"
   ]
  },
  {
   "cell_type": "code",
   "execution_count": null,
   "id": "298c4a15",
   "metadata": {},
   "outputs": [],
   "source": [
    "data.columns"
   ]
  },
  {
   "cell_type": "markdown",
   "id": "a07fe258",
   "metadata": {},
   "source": [
    "# Checking Missing Values"
   ]
  },
  {
   "cell_type": "code",
   "execution_count": null,
   "id": "846f7e7f",
   "metadata": {},
   "outputs": [],
   "source": [
    "data.isnull().sum()"
   ]
  },
  {
   "cell_type": "markdown",
   "id": "1433a591",
   "metadata": {},
   "source": [
    "# Exploratory Data Analysis"
   ]
  },
  {
   "cell_type": "code",
   "execution_count": null,
   "id": "548c70cc",
   "metadata": {},
   "outputs": [],
   "source": [
    "data.age"
   ]
  },
  {
   "cell_type": "code",
   "execution_count": null,
   "id": "0548ee1f",
   "metadata": {},
   "outputs": [],
   "source": [
    "data.age.unique()"
   ]
  },
  {
   "cell_type": "code",
   "execution_count": null,
   "id": "6a4d836d",
   "metadata": {},
   "outputs": [],
   "source": [
    "data.age.value_counts()"
   ]
  },
  {
   "cell_type": "code",
   "execution_count": null,
   "id": "5c340af0",
   "metadata": {},
   "outputs": [],
   "source": [
    "plt.figure(figsize=(10,5))\n",
    "sns.histplot(data.age)"
   ]
  },
  {
   "cell_type": "code",
   "execution_count": null,
   "id": "3d2d90a1",
   "metadata": {},
   "outputs": [],
   "source": [
    "plt.figure(figsize=(10,5))\n",
    "sns.distplot(data.age)"
   ]
  },
  {
   "cell_type": "code",
   "execution_count": null,
   "id": "8ce1c9bc",
   "metadata": {},
   "outputs": [],
   "source": [
    "plt.figure(figsize=(10,5))\n",
    "sns.boxplot(data.age)"
   ]
  },
  {
   "cell_type": "code",
   "execution_count": null,
   "id": "d2f5bb84",
   "metadata": {},
   "outputs": [],
   "source": [
    "data.job"
   ]
  },
  {
   "cell_type": "code",
   "execution_count": null,
   "id": "5164671a",
   "metadata": {},
   "outputs": [],
   "source": [
    "data.job.unique()"
   ]
  },
  {
   "cell_type": "code",
   "execution_count": null,
   "id": "dcaf966e",
   "metadata": {},
   "outputs": [],
   "source": [
    "data.job.value_counts()"
   ]
  },
  {
   "cell_type": "code",
   "execution_count": null,
   "id": "3502af8d",
   "metadata": {},
   "outputs": [],
   "source": [
    "plt.figure(figsize=(15,5))\n",
    "sns.countplot(data.job)"
   ]
  },
  {
   "cell_type": "code",
   "execution_count": null,
   "id": "1dff1e3a",
   "metadata": {},
   "outputs": [],
   "source": [
    "plt.figure(figsize=(18,8))\n",
    "data[\"job\"].value_counts().plot(kind=\"pie\",autopct=\"%.2f\")"
   ]
  },
  {
   "cell_type": "code",
   "execution_count": null,
   "id": "a33a60f5",
   "metadata": {},
   "outputs": [],
   "source": [
    "data.marital"
   ]
  },
  {
   "cell_type": "code",
   "execution_count": null,
   "id": "300add8c",
   "metadata": {},
   "outputs": [],
   "source": [
    "data.marital.unique()"
   ]
  },
  {
   "cell_type": "code",
   "execution_count": null,
   "id": "0d931360",
   "metadata": {},
   "outputs": [],
   "source": [
    "data.marital.value_counts()"
   ]
  },
  {
   "cell_type": "code",
   "execution_count": null,
   "id": "659b16e2",
   "metadata": {},
   "outputs": [],
   "source": [
    "plt.figure(figsize=(10,5))\n",
    "sns.countplot(data.marital)"
   ]
  },
  {
   "cell_type": "code",
   "execution_count": null,
   "id": "5a805000",
   "metadata": {},
   "outputs": [],
   "source": [
    "plt.figure(figsize=(10,5))\n",
    "data[\"marital\"].value_counts().plot(kind=\"pie\",autopct=\"%.2f\")"
   ]
  },
  {
   "cell_type": "code",
   "execution_count": null,
   "id": "2fa062e8",
   "metadata": {},
   "outputs": [],
   "source": [
    "data.education"
   ]
  },
  {
   "cell_type": "code",
   "execution_count": null,
   "id": "d807aeeb",
   "metadata": {},
   "outputs": [],
   "source": [
    "data.education.unique()"
   ]
  },
  {
   "cell_type": "code",
   "execution_count": null,
   "id": "b0d54e2c",
   "metadata": {},
   "outputs": [],
   "source": [
    "data.education.value_counts()"
   ]
  },
  {
   "cell_type": "code",
   "execution_count": null,
   "id": "e44f9c63",
   "metadata": {},
   "outputs": [],
   "source": [
    "plt.figure(figsize=(15,5))\n",
    "sns.countplot(data.education)"
   ]
  },
  {
   "cell_type": "code",
   "execution_count": null,
   "id": "a76d5265",
   "metadata": {},
   "outputs": [],
   "source": [
    "plt.figure(figsize=(10,5))\n",
    "data[\"education\"].value_counts().plot(kind=\"pie\",autopct=\"%.2f\")"
   ]
  },
  {
   "cell_type": "code",
   "execution_count": null,
   "id": "3180a0ad",
   "metadata": {},
   "outputs": [],
   "source": [
    "data.default"
   ]
  },
  {
   "cell_type": "code",
   "execution_count": null,
   "id": "ad663127",
   "metadata": {},
   "outputs": [],
   "source": [
    "data.default.unique()"
   ]
  },
  {
   "cell_type": "code",
   "execution_count": null,
   "id": "a99ee317",
   "metadata": {},
   "outputs": [],
   "source": [
    "data.default.value_counts()"
   ]
  },
  {
   "cell_type": "code",
   "execution_count": null,
   "id": "0e3008b0",
   "metadata": {},
   "outputs": [],
   "source": [
    "plt.figure(figsize=(10,5))\n",
    "sns.countplot(data.default)"
   ]
  },
  {
   "cell_type": "code",
   "execution_count": null,
   "id": "b0371bd7",
   "metadata": {},
   "outputs": [],
   "source": [
    "data.housing"
   ]
  },
  {
   "cell_type": "code",
   "execution_count": null,
   "id": "8922e607",
   "metadata": {},
   "outputs": [],
   "source": [
    "data.housing.unique()"
   ]
  },
  {
   "cell_type": "code",
   "execution_count": null,
   "id": "f924e4ff",
   "metadata": {},
   "outputs": [],
   "source": [
    "data.housing.value_counts()"
   ]
  },
  {
   "cell_type": "code",
   "execution_count": null,
   "id": "4bd468bc",
   "metadata": {},
   "outputs": [],
   "source": [
    "plt.figure(figsize=(10,5))\n",
    "sns.countplot(data.housing)"
   ]
  },
  {
   "cell_type": "code",
   "execution_count": null,
   "id": "e42097b8",
   "metadata": {},
   "outputs": [],
   "source": [
    "plt.figure(figsize=(10,5))\n",
    "data[\"housing\"].value_counts().plot(kind=\"pie\",autopct=\"%.2f\")"
   ]
  },
  {
   "cell_type": "code",
   "execution_count": null,
   "id": "3510cbe9",
   "metadata": {},
   "outputs": [],
   "source": [
    "data.loan"
   ]
  },
  {
   "cell_type": "code",
   "execution_count": null,
   "id": "6d636564",
   "metadata": {},
   "outputs": [],
   "source": [
    "data.loan.unique()"
   ]
  },
  {
   "cell_type": "code",
   "execution_count": null,
   "id": "c5821c77",
   "metadata": {},
   "outputs": [],
   "source": [
    "data.loan.value_counts()"
   ]
  },
  {
   "cell_type": "code",
   "execution_count": null,
   "id": "d1d80e03",
   "metadata": {},
   "outputs": [],
   "source": [
    "plt.figure(figsize=(10,5))\n",
    "sns.countplot(data.loan)"
   ]
  },
  {
   "cell_type": "code",
   "execution_count": null,
   "id": "e74b972f",
   "metadata": {},
   "outputs": [],
   "source": [
    "plt.figure(figsize=(10,5))\n",
    "data[\"loan\"].value_counts().plot(kind=\"pie\",autopct=\"%.2f\")"
   ]
  },
  {
   "cell_type": "code",
   "execution_count": null,
   "id": "ebe14c54",
   "metadata": {},
   "outputs": [],
   "source": [
    "data.contact"
   ]
  },
  {
   "cell_type": "code",
   "execution_count": null,
   "id": "045a5387",
   "metadata": {},
   "outputs": [],
   "source": [
    "data.contact.unique()"
   ]
  },
  {
   "cell_type": "code",
   "execution_count": null,
   "id": "11ecdf9f",
   "metadata": {},
   "outputs": [],
   "source": [
    "data.contact.value_counts()"
   ]
  },
  {
   "cell_type": "code",
   "execution_count": null,
   "id": "b355afd1",
   "metadata": {},
   "outputs": [],
   "source": [
    "plt.figure(figsize=(10,5))\n",
    "sns.countplot(data.contact)"
   ]
  },
  {
   "cell_type": "code",
   "execution_count": null,
   "id": "e7edbe91",
   "metadata": {},
   "outputs": [],
   "source": [
    "plt.figure(figsize=(10,5))\n",
    "data[\"contact\"].value_counts().plot(kind=\"pie\",autopct=\"%.2f\")"
   ]
  },
  {
   "cell_type": "code",
   "execution_count": null,
   "id": "ef2bbd0e",
   "metadata": {},
   "outputs": [],
   "source": [
    "data.day_of_week"
   ]
  },
  {
   "cell_type": "code",
   "execution_count": null,
   "id": "a8f9b4ac",
   "metadata": {},
   "outputs": [],
   "source": [
    "data.day_of_week.unique()"
   ]
  },
  {
   "cell_type": "code",
   "execution_count": null,
   "id": "814ec188",
   "metadata": {},
   "outputs": [],
   "source": [
    "data.day_of_week.value_counts()"
   ]
  },
  {
   "cell_type": "code",
   "execution_count": null,
   "id": "a6d3cc86",
   "metadata": {},
   "outputs": [],
   "source": [
    "plt.figure(figsize=(10,5))\n",
    "sns.countplot(data.day_of_week)"
   ]
  },
  {
   "cell_type": "code",
   "execution_count": null,
   "id": "246438e0",
   "metadata": {},
   "outputs": [],
   "source": [
    "plt.figure(figsize=(10,5))\n",
    "data[\"day_of_week\"].value_counts().plot(kind=\"pie\",autopct=\"%.2f\")"
   ]
  },
  {
   "cell_type": "code",
   "execution_count": null,
   "id": "f052485a",
   "metadata": {},
   "outputs": [],
   "source": [
    "data.month"
   ]
  },
  {
   "cell_type": "code",
   "execution_count": null,
   "id": "0e8add18",
   "metadata": {},
   "outputs": [],
   "source": [
    "data.month.unique()"
   ]
  },
  {
   "cell_type": "code",
   "execution_count": null,
   "id": "bd8fe24f",
   "metadata": {},
   "outputs": [],
   "source": [
    "a = ['may','jun','nov','sep','jul','aug','mar','oct','apr','dec']\n",
    "sorted(a)"
   ]
  },
  {
   "cell_type": "code",
   "execution_count": null,
   "id": "ecacff5a",
   "metadata": {},
   "outputs": [],
   "source": [
    "data.month.value_counts()"
   ]
  },
  {
   "cell_type": "code",
   "execution_count": null,
   "id": "2123c019",
   "metadata": {},
   "outputs": [],
   "source": [
    "plt.figure(figsize=(10,5))\n",
    "sns.countplot(data.month)"
   ]
  },
  {
   "cell_type": "code",
   "execution_count": null,
   "id": "c7796f44",
   "metadata": {},
   "outputs": [],
   "source": [
    "plt.figure(figsize=(15,10))\n",
    "data[\"month\"].value_counts().plot(kind=\"pie\",autopct=\"%.2f\")"
   ]
  },
  {
   "cell_type": "code",
   "execution_count": null,
   "id": "e9ea2f57",
   "metadata": {},
   "outputs": [],
   "source": [
    "data.duration"
   ]
  },
  {
   "cell_type": "code",
   "execution_count": null,
   "id": "636bb69f",
   "metadata": {},
   "outputs": [],
   "source": [
    "plt.figure(figsize=(20,5))\n",
    "sns.histplot(data.duration)"
   ]
  },
  {
   "cell_type": "code",
   "execution_count": null,
   "id": "88df96d3",
   "metadata": {},
   "outputs": [],
   "source": [
    "plt.figure(figsize=(20,5))\n",
    "sns.distplot(data.duration)"
   ]
  },
  {
   "cell_type": "code",
   "execution_count": null,
   "id": "642ea962",
   "metadata": {},
   "outputs": [],
   "source": [
    "plt.figure(figsize=(20,5))\n",
    "sns.boxplot(data.duration)"
   ]
  },
  {
   "cell_type": "code",
   "execution_count": null,
   "id": "9b3fa0a8",
   "metadata": {},
   "outputs": [],
   "source": [
    "data.campaign"
   ]
  },
  {
   "cell_type": "code",
   "execution_count": null,
   "id": "6d200a0c",
   "metadata": {},
   "outputs": [],
   "source": [
    "data.campaign.unique()"
   ]
  },
  {
   "cell_type": "code",
   "execution_count": null,
   "id": "560a0e1f",
   "metadata": {},
   "outputs": [],
   "source": [
    "data.campaign.value_counts()"
   ]
  },
  {
   "cell_type": "code",
   "execution_count": null,
   "id": "a3aca493",
   "metadata": {},
   "outputs": [],
   "source": [
    "plt.figure(figsize=(20,5))\n",
    "sns.histplot(data.campaign)"
   ]
  },
  {
   "cell_type": "code",
   "execution_count": null,
   "id": "710f532a",
   "metadata": {},
   "outputs": [],
   "source": [
    "plt.figure(figsize=(20,8))\n",
    "sns.distplot(data.campaign)"
   ]
  },
  {
   "cell_type": "code",
   "execution_count": null,
   "id": "446cdd7f",
   "metadata": {},
   "outputs": [],
   "source": [
    "plt.figure(figsize=(20,5))\n",
    "sns.boxplot(data.campaign)"
   ]
  },
  {
   "cell_type": "code",
   "execution_count": null,
   "id": "cf50e156",
   "metadata": {},
   "outputs": [],
   "source": [
    "data.pdays"
   ]
  },
  {
   "cell_type": "code",
   "execution_count": null,
   "id": "1251bdb9",
   "metadata": {},
   "outputs": [],
   "source": [
    "data.pdays.unique()"
   ]
  },
  {
   "cell_type": "code",
   "execution_count": null,
   "id": "58adee9f",
   "metadata": {},
   "outputs": [],
   "source": [
    "data.pdays.value_counts()"
   ]
  },
  {
   "cell_type": "code",
   "execution_count": null,
   "id": "66e88dc8",
   "metadata": {},
   "outputs": [],
   "source": [
    "plt.figure(figsize=(20,5))\n",
    "sns.histplot(data.pdays)"
   ]
  },
  {
   "cell_type": "code",
   "execution_count": null,
   "id": "f6f35275",
   "metadata": {},
   "outputs": [],
   "source": [
    "plt.figure(figsize=(20,5))\n",
    "sns.distplot(data.pdays)"
   ]
  },
  {
   "cell_type": "code",
   "execution_count": null,
   "id": "a1d4b7e2",
   "metadata": {},
   "outputs": [],
   "source": [
    "sns.boxplot(data.pdays)"
   ]
  },
  {
   "cell_type": "code",
   "execution_count": null,
   "id": "7c9f830c",
   "metadata": {},
   "outputs": [],
   "source": [
    "data.previous"
   ]
  },
  {
   "cell_type": "code",
   "execution_count": null,
   "id": "c7022a7a",
   "metadata": {},
   "outputs": [],
   "source": [
    "data.previous.unique()"
   ]
  },
  {
   "cell_type": "code",
   "execution_count": null,
   "id": "fc59b641",
   "metadata": {},
   "outputs": [],
   "source": [
    "data.previous.value_counts()"
   ]
  },
  {
   "cell_type": "code",
   "execution_count": null,
   "id": "31397c5d",
   "metadata": {},
   "outputs": [],
   "source": [
    "plt.figure(figsize=(20,5))\n",
    "sns.histplot(data.previous)"
   ]
  },
  {
   "cell_type": "code",
   "execution_count": null,
   "id": "5222f8f1",
   "metadata": {},
   "outputs": [],
   "source": [
    "plt.figure(figsize=(20,5))\n",
    "sns.distplot(data.previous)"
   ]
  },
  {
   "cell_type": "code",
   "execution_count": null,
   "id": "b45973f1",
   "metadata": {},
   "outputs": [],
   "source": [
    "plt.figure(figsize=(20,5))\n",
    "sns.boxplot(data.previous)"
   ]
  },
  {
   "cell_type": "code",
   "execution_count": null,
   "id": "70ea0b70",
   "metadata": {},
   "outputs": [],
   "source": [
    "data.poutcome"
   ]
  },
  {
   "cell_type": "code",
   "execution_count": null,
   "id": "50c471a9",
   "metadata": {},
   "outputs": [],
   "source": [
    "data.poutcome.unique()"
   ]
  },
  {
   "cell_type": "code",
   "execution_count": null,
   "id": "02bf8873",
   "metadata": {},
   "outputs": [],
   "source": [
    "data.poutcome.value_counts()"
   ]
  },
  {
   "cell_type": "code",
   "execution_count": null,
   "id": "4b623e93",
   "metadata": {},
   "outputs": [],
   "source": [
    "plt.figure(figsize=(20,5))\n",
    "sns.countplot(data.poutcome)"
   ]
  },
  {
   "cell_type": "code",
   "execution_count": null,
   "id": "2dbe702b",
   "metadata": {},
   "outputs": [],
   "source": [
    "plt.figure(figsize=(10,5))\n",
    "data[\"poutcome\"].value_counts().plot(kind=\"pie\",autopct=\"%.2f\")"
   ]
  },
  {
   "cell_type": "code",
   "execution_count": null,
   "id": "c3c8fee1",
   "metadata": {},
   "outputs": [],
   "source": [
    "data[\"emp.var.rate\"]"
   ]
  },
  {
   "cell_type": "code",
   "execution_count": null,
   "id": "b59c109f",
   "metadata": {},
   "outputs": [],
   "source": [
    "data[\"emp.var.rate\"].unique()"
   ]
  },
  {
   "cell_type": "code",
   "execution_count": null,
   "id": "c28f8c8d",
   "metadata": {},
   "outputs": [],
   "source": [
    "data[\"emp.var.rate\"].value_counts()"
   ]
  },
  {
   "cell_type": "code",
   "execution_count": null,
   "id": "e06c8b39",
   "metadata": {},
   "outputs": [],
   "source": [
    "plt.figure(figsize=(20,5))\n",
    "sns.histplot(data[\"emp.var.rate\"])"
   ]
  },
  {
   "cell_type": "code",
   "execution_count": null,
   "id": "1107ef7d",
   "metadata": {},
   "outputs": [],
   "source": [
    "plt.figure(figsize=(20,5))\n",
    "sns.distplot(data[\"emp.var.rate\"])"
   ]
  },
  {
   "cell_type": "code",
   "execution_count": null,
   "id": "a256bced",
   "metadata": {},
   "outputs": [],
   "source": [
    "plt.figure(figsize=(20,5))\n",
    "sns.boxplot(data[\"emp.var.rate\"])"
   ]
  },
  {
   "cell_type": "code",
   "execution_count": null,
   "id": "a8d6fc26",
   "metadata": {},
   "outputs": [],
   "source": [
    "data[\"cons.price.idx\"]"
   ]
  },
  {
   "cell_type": "code",
   "execution_count": null,
   "id": "4c5a1b36",
   "metadata": {},
   "outputs": [],
   "source": [
    "data[\"cons.price.idx\"].unique()"
   ]
  },
  {
   "cell_type": "code",
   "execution_count": null,
   "id": "e41f6ef1",
   "metadata": {},
   "outputs": [],
   "source": [
    "data[\"cons.price.idx\"].value_counts()"
   ]
  },
  {
   "cell_type": "code",
   "execution_count": null,
   "id": "f836b34d",
   "metadata": {},
   "outputs": [],
   "source": [
    "plt.figure(figsize=(20,5))\n",
    "sns.histplot(data[\"cons.price.idx\"])"
   ]
  },
  {
   "cell_type": "code",
   "execution_count": null,
   "id": "0ddda72f",
   "metadata": {},
   "outputs": [],
   "source": [
    "plt.figure(figsize=(20,5))\n",
    "sns.distplot(data[\"cons.price.idx\"])"
   ]
  },
  {
   "cell_type": "code",
   "execution_count": null,
   "id": "8aace34e",
   "metadata": {},
   "outputs": [],
   "source": [
    "plt.figure(figsize=(20,5))\n",
    "sns.boxplot(data[\"cons.price.idx\"])"
   ]
  },
  {
   "cell_type": "code",
   "execution_count": null,
   "id": "de8527d6",
   "metadata": {},
   "outputs": [],
   "source": [
    "data[\"cons.conf.idx\"]"
   ]
  },
  {
   "cell_type": "code",
   "execution_count": null,
   "id": "87d2eb26",
   "metadata": {},
   "outputs": [],
   "source": [
    "data[\"cons.conf.idx\"].unique()"
   ]
  },
  {
   "cell_type": "code",
   "execution_count": null,
   "id": "dfeb70c7",
   "metadata": {},
   "outputs": [],
   "source": [
    "data[\"cons.conf.idx\"].value_counts()"
   ]
  },
  {
   "cell_type": "code",
   "execution_count": null,
   "id": "b51aca3a",
   "metadata": {},
   "outputs": [],
   "source": [
    "plt.figure(figsize=(20,5))\n",
    "sns.histplot(data[\"cons.conf.idx\"])"
   ]
  },
  {
   "cell_type": "code",
   "execution_count": null,
   "id": "9e4040fb",
   "metadata": {},
   "outputs": [],
   "source": [
    "plt.figure(figsize=(20,5))\n",
    "sns.distplot(data[\"cons.conf.idx\"])"
   ]
  },
  {
   "cell_type": "code",
   "execution_count": null,
   "id": "6750294a",
   "metadata": {},
   "outputs": [],
   "source": [
    "plt.figure(figsize=(20,5))\n",
    "sns.boxplot(data[\"cons.conf.idx\"])"
   ]
  },
  {
   "cell_type": "code",
   "execution_count": null,
   "id": "684f1f8d",
   "metadata": {},
   "outputs": [],
   "source": [
    "data[\"euribor3m\"]"
   ]
  },
  {
   "cell_type": "code",
   "execution_count": null,
   "id": "ccc8bd4d",
   "metadata": {},
   "outputs": [],
   "source": [
    "data[\"euribor3m\"].unique()"
   ]
  },
  {
   "cell_type": "code",
   "execution_count": null,
   "id": "f66cbfbb",
   "metadata": {},
   "outputs": [],
   "source": [
    "data[\"euribor3m\"].value_counts()"
   ]
  },
  {
   "cell_type": "code",
   "execution_count": null,
   "id": "030267d1",
   "metadata": {},
   "outputs": [],
   "source": [
    "plt.figure(figsize=(20,5))\n",
    "sns.histplot(data[\"euribor3m\"])"
   ]
  },
  {
   "cell_type": "code",
   "execution_count": null,
   "id": "e6ccba07",
   "metadata": {},
   "outputs": [],
   "source": [
    "plt.figure(figsize=(20,5))\n",
    "sns.distplot(data[\"euribor3m\"])"
   ]
  },
  {
   "cell_type": "code",
   "execution_count": null,
   "id": "f6cadbb9",
   "metadata": {},
   "outputs": [],
   "source": [
    "plt.figure(figsize=(20,5))\n",
    "sns.boxplot(data[\"euribor3m\"])"
   ]
  },
  {
   "cell_type": "code",
   "execution_count": null,
   "id": "afae395d",
   "metadata": {},
   "outputs": [],
   "source": [
    "data[\"nr.employed\"]"
   ]
  },
  {
   "cell_type": "code",
   "execution_count": null,
   "id": "74ec9ce5",
   "metadata": {},
   "outputs": [],
   "source": [
    "data[\"nr.employed\"].unique()"
   ]
  },
  {
   "cell_type": "code",
   "execution_count": null,
   "id": "51ff5916",
   "metadata": {},
   "outputs": [],
   "source": [
    "data[\"nr.employed\"].value_counts()"
   ]
  },
  {
   "cell_type": "code",
   "execution_count": null,
   "id": "375375bb",
   "metadata": {},
   "outputs": [],
   "source": [
    "plt.figure(figsize=(20,5))\n",
    "sns.histplot(data[\"nr.employed\"])"
   ]
  },
  {
   "cell_type": "code",
   "execution_count": null,
   "id": "2cd8501d",
   "metadata": {},
   "outputs": [],
   "source": [
    "plt.figure(figsize=(20,5))\n",
    "sns.distplot(data[\"nr.employed\"])"
   ]
  },
  {
   "cell_type": "code",
   "execution_count": null,
   "id": "c9a01bc1",
   "metadata": {},
   "outputs": [],
   "source": [
    "plt.figure(figsize=(20,5))\n",
    "sns.boxplot(data[\"nr.employed\"])"
   ]
  },
  {
   "cell_type": "markdown",
   "id": "e1a58b04",
   "metadata": {},
   "source": [
    "# Feature Engineering Process"
   ]
  },
  {
   "cell_type": "code",
   "execution_count": null,
   "id": "e6815f69",
   "metadata": {},
   "outputs": [],
   "source": [
    "ohe1 = OneHotEncoder()\n",
    "X = ohe1.fit_transform(data.job.values.reshape(-1,1)).toarray()\n",
    "OHE1 = pd.DataFrame(X, columns = [\"admin.\",\"blue-collar\",\"entrepreneur\",\"housemaid\",\"management\",\"retired\",\"self-employed\",\n",
    "                                 \"services\",\"student\",\"technician\",\"unemployed\",\"unknown\"])\n",
    "data = pd.concat([data, OHE1], axis=1)\n",
    "data = data.drop(\"job\",axis = 1)"
   ]
  },
  {
   "cell_type": "code",
   "execution_count": null,
   "id": "a06ecca7",
   "metadata": {},
   "outputs": [],
   "source": [
    "ohe2 = OneHotEncoder()\n",
    "X = ohe2.fit_transform(data.marital.values.reshape(-1,1)).toarray()\n",
    "OHE2 = pd.DataFrame(X, columns = [\"divorced\",\"married\",\"single\",\"unknown\"])\n",
    "data = pd.concat([data, OHE2], axis=1)\n",
    "data = data.drop(\"marital\",axis = 1)"
   ]
  },
  {
   "cell_type": "code",
   "execution_count": null,
   "id": "d1e8cdbe",
   "metadata": {},
   "outputs": [],
   "source": [
    "ohe3 = OneHotEncoder()\n",
    "X = ohe3.fit_transform(data.education.values.reshape(-1,1)).toarray()\n",
    "OHE3 = pd.DataFrame(X, columns = [\"basic.4y\",\"basic.6y\",\"basic.9y\",\"high.school\",\"illiterate\",\"professional.course\",\"university.degree\",\"unknown\"])\n",
    "data = pd.concat([data, OHE3], axis=1)\n",
    "data = data.drop(\"education\",axis = 1)"
   ]
  },
  {
   "cell_type": "code",
   "execution_count": null,
   "id": "3c9019f2",
   "metadata": {},
   "outputs": [],
   "source": [
    "le1 = LabelEncoder()\n",
    "data[\"default\"] = le1.fit_transform(data.default)"
   ]
  },
  {
   "cell_type": "code",
   "execution_count": null,
   "id": "6fb1476c",
   "metadata": {},
   "outputs": [],
   "source": [
    "le2 = LabelEncoder()\n",
    "data[\"housing\"] = le2.fit_transform(data.housing)"
   ]
  },
  {
   "cell_type": "code",
   "execution_count": null,
   "id": "923da116",
   "metadata": {},
   "outputs": [],
   "source": [
    "le3 = LabelEncoder()\n",
    "data[\"loan\"] = le1.fit_transform(data.loan)"
   ]
  },
  {
   "cell_type": "code",
   "execution_count": null,
   "id": "cacf0eb1",
   "metadata": {},
   "outputs": [],
   "source": [
    "ohe4 = OneHotEncoder()\n",
    "X = ohe4.fit_transform(data.contact.values.reshape(-1,1)).toarray()\n",
    "OHE4 = pd.DataFrame(X, columns = [\"cellular\",\"telephone\"])\n",
    "data = pd.concat([data, OHE4], axis=1)\n",
    "data = data.drop(\"contact\",axis = 1)"
   ]
  },
  {
   "cell_type": "code",
   "execution_count": null,
   "id": "3d84e55a",
   "metadata": {},
   "outputs": [],
   "source": [
    "ohe5 = OneHotEncoder()\n",
    "X = ohe5.fit_transform(data.month.values.reshape(-1,1)).toarray()\n",
    "OHE5 = pd.DataFrame(X, columns = ['apr', 'aug', 'dec', 'jul', 'jun', 'mar', 'may', 'nov', 'oct', 'sep'])\n",
    "data = pd.concat([data, OHE5], axis=1)\n",
    "data = data.drop(\"month\",axis = 1)"
   ]
  },
  {
   "cell_type": "code",
   "execution_count": null,
   "id": "14a9260c",
   "metadata": {},
   "outputs": [],
   "source": [
    "ohe6 = OneHotEncoder()\n",
    "X = ohe6.fit_transform(data.poutcome.values.reshape(-1,1)).toarray()\n",
    "OHE6 = pd.DataFrame(X, columns = [\"failure\",\"nonexistent\",\"success\"])\n",
    "data = pd.concat([data, OHE6], axis=1)\n",
    "data = data.drop(\"poutcome\",axis = 1)"
   ]
  },
  {
   "cell_type": "code",
   "execution_count": null,
   "id": "d6b3a64a",
   "metadata": {},
   "outputs": [],
   "source": [
    "ohe7 = OneHotEncoder()\n",
    "X = ohe7.fit_transform(data.day_of_week.values.reshape(-1,1)).toarray()\n",
    "OHE7 = pd.DataFrame(X, columns = ['fri', 'mon', 'thu', 'tue', 'wed'])\n",
    "data = pd.concat([data, OHE7], axis=1)\n",
    "data = data.drop(\"day_of_week\",axis = 1)"
   ]
  },
  {
   "cell_type": "code",
   "execution_count": null,
   "id": "0e080327",
   "metadata": {},
   "outputs": [],
   "source": [
    "le4 = LabelEncoder()\n",
    "data[\"y\"] = le4.fit_transform(data.y)"
   ]
  },
  {
   "cell_type": "code",
   "execution_count": null,
   "id": "1edffa5f",
   "metadata": {},
   "outputs": [],
   "source": [
    "data"
   ]
  },
  {
   "cell_type": "code",
   "execution_count": null,
   "id": "bfae6325",
   "metadata": {},
   "outputs": [],
   "source": [
    "z = np.abs(stats.zscore(data))\n",
    "print(z)"
   ]
  },
  {
   "cell_type": "code",
   "execution_count": null,
   "id": "ec83bf40",
   "metadata": {},
   "outputs": [],
   "source": [
    "threshold = 3\n",
    " \n",
    "# Position of the outlier\n",
    "print(np.where(z > 3))"
   ]
  },
  {
   "cell_type": "code",
   "execution_count": null,
   "id": "918cee96",
   "metadata": {},
   "outputs": [],
   "source": []
  },
  {
   "cell_type": "code",
   "execution_count": null,
   "id": "6c0cc2c8",
   "metadata": {},
   "outputs": [],
   "source": [
    "X = data.drop(\"y\",axis = 1)\n",
    "y = data.y"
   ]
  },
  {
   "cell_type": "code",
   "execution_count": null,
   "id": "53389e89",
   "metadata": {},
   "outputs": [],
   "source": [
    "X_train,X_test,y_train,y_test = train_test_split(X,y,test_size = 0.2,random_state =0)"
   ]
  },
  {
   "cell_type": "code",
   "execution_count": null,
   "id": "b00c21d7",
   "metadata": {},
   "outputs": [],
   "source": [
    "from sklearn.linear_model import LogisticRegression\n",
    "classifier = LogisticRegression(solver='liblinear')\n",
    "classifier.fit(X_train,y_train)\n",
    "train = classifier.predict(X_train)\n",
    "pred = classifier.predict(X_test)\n",
    "cm = confusion_matrix(y_test,pred)\n",
    "print(cm)\n",
    "print(\"accuracy\",accuracy_score(y_test,pred)*100,\"%\")\n",
    "print(recall_score(y_test,pred))\n",
    "print(precision_score(y_test,pred))\n",
    "print(f1_score(y_test,pred))"
   ]
  },
  {
   "cell_type": "code",
   "execution_count": null,
   "id": "c6eb070f",
   "metadata": {},
   "outputs": [],
   "source": [
    "clf = KNeighborsClassifier()\n",
    "clf.fit(X_train,y_train)\n",
    "y_pred = clf.predict(X_test)\n",
    "knn = accuracy_score(y_test,y_pred)*100\n",
    "print(\"Accuracy Score:\",accuracy_score(y_test,y_pred)*100,\"%\")\n",
    "print(\"Recall Score:\",recall_score(y_test,y_pred)*100,\"%\")\n",
    "print(\"Precision Score:\",precision_score(y_test,y_pred)*100,\"%\")\n",
    "print(\"F1 Score:\",f1_score(y_test,y_pred)*100,\"%\")\n",
    "pd.crosstab(y_pred,y_test)"
   ]
  },
  {
   "cell_type": "code",
   "execution_count": null,
   "id": "3ac98953",
   "metadata": {},
   "outputs": [],
   "source": [
    "k_range = range(1,10)\n",
    "scores = {}\n",
    "scores_list = []\n",
    "for k in k_range:\n",
    "    clf = KNeighborsClassifier(n_neighbors = k)\n",
    "    clf.fit(X_train,y_train)\n",
    "    y_pred = clf.predict(X_test)\n",
    "    scores[k] = accuracy_score(y_test,y_pred)\n",
    "    scores_list.append(accuracy_score(y_test,y_pred))"
   ]
  },
  {
   "cell_type": "code",
   "execution_count": null,
   "id": "34785fff",
   "metadata": {},
   "outputs": [],
   "source": [
    "%matplotlib inline\n",
    "import matplotlib.pyplot as plt\n",
    "plt.plot(k_range,scores_list)\n",
    "plt.xlabel(\"Value of K\")\n",
    "plt.ylabel(\"Accuracy\")\n",
    "plt.show()"
   ]
  },
  {
   "cell_type": "code",
   "execution_count": null,
   "id": "f12c8a12",
   "metadata": {},
   "outputs": [],
   "source": [
    "clf = KNeighborsClassifier(n_neighbors = 9)\n",
    "clf.fit(X_train,y_train)\n",
    "y_pred = clf.predict(X_test)\n",
    "knn_4 = accuracy_score(y_test,y_pred)*100\n",
    "print(\"Accuracy Score:\",accuracy_score(y_test,y_pred)*100,\"%\")\n",
    "print(\"Recall Score:\",recall_score(y_test,y_pred)*100,\"%\")\n",
    "print(\"Precision Score:\",precision_score(y_test,y_pred)*100,\"%\")\n",
    "print(\"F1 Score:\",f1_score(y_test,y_pred)*100,\"%\")\n",
    "pd.crosstab(y_pred,y_test)"
   ]
  },
  {
   "cell_type": "code",
   "execution_count": null,
   "id": "8af4215c",
   "metadata": {},
   "outputs": [],
   "source": [
    "clf = SVC(kernel=\"rbf\")\n",
    "clf.fit(X_train,y_train)\n",
    "y_pred = clf.predict(X_test)\n",
    "svc_rbf = accuracy_score(y_test,y_pred)*100\n",
    "print(\"Accuracy Score:\",accuracy_score(y_test,y_pred)*100,\"%\")\n",
    "print(\"Recall Score:\",recall_score(y_test,y_pred)*100,\"%\")\n",
    "print(\"Precision Score:\",precision_score(y_test,y_pred)*100,\"%\")\n",
    "print(\"F1 Score:\",f1_score(y_test,y_pred)*100,\"%\")\n",
    "pd.crosstab(y_pred,y_test)"
   ]
  },
  {
   "cell_type": "code",
   "execution_count": null,
   "id": "f12050f0",
   "metadata": {},
   "outputs": [],
   "source": [
    "classifier = GaussianNB()\n",
    "classifier.fit(X_train,y_train)\n",
    "y_pred = classifier.predict(X_test)\n",
    "gus = accuracy_score(y_test,y_pred)*100\n",
    "print(\"Accuracy Score:\",accuracy_score(y_test,y_pred)*100,\"%\")\n",
    "print(\"Recall Score:\",recall_score(y_test,y_pred)*100,\"%\")\n",
    "print(\"Precision Score:\",precision_score(y_test,y_pred)*100,\"%\")\n",
    "print(\"F1 Score:\",f1_score(y_test,y_pred)*100,\"%\")\n",
    "pd.crosstab(y_pred,y_test)"
   ]
  },
  {
   "cell_type": "code",
   "execution_count": null,
   "id": "0da47cef",
   "metadata": {},
   "outputs": [],
   "source": [
    "clf = DecisionTreeClassifier()\n",
    "clf.fit(X_train,y_train)\n",
    "y_pred = clf.predict(X_test)\n",
    "svc_rbf = accuracy_score(y_test,y_pred)*100\n",
    "print(\"Accuracy Score:\",accuracy_score(y_test,y_pred)*100,\"%\")\n",
    "print(\"Recall Score:\",recall_score(y_test,y_pred)*100,\"%\")\n",
    "print(\"Precision Score:\",precision_score(y_test,y_pred)*100,\"%\")\n",
    "print(\"F1 Score:\",f1_score(y_test,y_pred)*100,\"%\")\n",
    "pd.crosstab(y_pred,y_test)"
   ]
  },
  {
   "cell_type": "code",
   "execution_count": null,
   "id": "0a0fec05",
   "metadata": {},
   "outputs": [],
   "source": [
    "# List of values to try for max_depth:\n",
    "max_depth_range = list(range(1, 20))\n",
    "# List to store the accuracy for each value of max_depth:\n",
    "accuracy = []\n",
    "for depth in max_depth_range:\n",
    "    clf = DecisionTreeClassifier(max_depth = depth)\n",
    "    clf.fit(X_train, y_train)\n",
    "    score = clf.score(X_test, y_test)\n",
    "    accuracy.append(score)"
   ]
  },
  {
   "cell_type": "code",
   "execution_count": null,
   "id": "d56bcb32",
   "metadata": {},
   "outputs": [],
   "source": [
    "%matplotlib inline\n",
    "plt.figure(figsize=(20,10))\n",
    "import matplotlib.pyplot as plt\n",
    "plt.plot(max_depth_range,accuracy)\n",
    "plt.xlabel(\"Value of K\")\n",
    "plt.ylabel(\"Accuracy\")\n",
    "plt.show()"
   ]
  },
  {
   "cell_type": "code",
   "execution_count": null,
   "id": "b0aaeeed",
   "metadata": {},
   "outputs": [],
   "source": [
    "clf = DecisionTreeClassifier(max_depth = 5)\n",
    "clf.fit(X_train,y_train)\n",
    "y_pred = clf.predict(X_test)\n",
    "svc_rbf = accuracy_score(y_test,y_pred)*100\n",
    "print(\"Accuracy Score:\",accuracy_score(y_test,y_pred)*100,\"%\")\n",
    "print(\"Recall Score:\",recall_score(y_test,y_pred)*100,\"%\")\n",
    "print(\"Precision Score:\",precision_score(y_test,y_pred)*100,\"%\")\n",
    "print(\"F1 Score:\",f1_score(y_test,y_pred)*100,\"%\")\n",
    "pd.crosstab(y_pred,y_test)"
   ]
  },
  {
   "cell_type": "code",
   "execution_count": null,
   "id": "d457a466",
   "metadata": {},
   "outputs": [],
   "source": [
    "clf = RandomForestClassifier()\n",
    "clf.fit(X_train,y_train)\n",
    "y_pred = clf.predict(X_test)\n",
    "svc_rbf = accuracy_score(y_test,y_pred)*100\n",
    "print(\"Accuracy Score:\",accuracy_score(y_test,y_pred)*100,\"%\")\n",
    "print(\"Recall Score:\",recall_score(y_test,y_pred)*100,\"%\")\n",
    "print(\"Precision Score:\",precision_score(y_test,y_pred)*100,\"%\")\n",
    "print(\"F1 Score:\",f1_score(y_test,y_pred)*100,\"%\")\n",
    "pd.crosstab(y_pred,y_test)"
   ]
  },
  {
   "cell_type": "code",
   "execution_count": null,
   "id": "0e6afd11",
   "metadata": {},
   "outputs": [],
   "source": [
    "# List of values to try for max_depth:\n",
    "max_depth_range = list(range(1, 30))\n",
    "# List to store the accuracy for each value of max_depth:\n",
    "accuracy = []\n",
    "for depth in max_depth_range:\n",
    "    clf = RandomForestClassifier(n_estimators = depth)\n",
    "    clf.fit(X_train, y_train)\n",
    "    score = clf.score(X_test, y_test)\n",
    "    accuracy.append(score)"
   ]
  },
  {
   "cell_type": "code",
   "execution_count": null,
   "id": "fa040aac",
   "metadata": {},
   "outputs": [],
   "source": [
    "%matplotlib inline\n",
    "plt.figure(figsize=(20,10))\n",
    "import matplotlib.pyplot as plt\n",
    "plt.plot(max_depth_range,accuracy)\n",
    "plt.xlabel(\"Value of K\")\n",
    "plt.ylabel(\"Accuracy\")\n",
    "plt.show()"
   ]
  },
  {
   "cell_type": "code",
   "execution_count": null,
   "id": "8424fbc3",
   "metadata": {},
   "outputs": [],
   "source": [
    "clf = RandomForestClassifier(n_estimators = 12)\n",
    "clf.fit(X_train,y_train)\n",
    "y_pred = clf.predict(X_test)\n",
    "svc_rbf = accuracy_score(y_test,y_pred)*100\n",
    "print(\"Accuracy Score:\",accuracy_score(y_test,y_pred)*100,\"%\")\n",
    "print(\"Recall Score:\",recall_score(y_test,y_pred)*100,\"%\")\n",
    "print(\"Precision Score:\",precision_score(y_test,y_pred)*100,\"%\")\n",
    "print(\"F1 Score:\",f1_score(y_test,y_pred)*100,\"%\")\n",
    "pd.crosstab(y_pred,y_test)"
   ]
  }
 ],
 "metadata": {
  "kernelspec": {
   "display_name": "Python 3 (ipykernel)",
   "language": "python",
   "name": "python3"
  },
  "language_info": {
   "codemirror_mode": {
    "name": "ipython",
    "version": 3
   },
   "file_extension": ".py",
   "mimetype": "text/x-python",
   "name": "python",
   "nbconvert_exporter": "python",
   "pygments_lexer": "ipython3",
   "version": "3.9.7"
  }
 },
 "nbformat": 4,
 "nbformat_minor": 5
}
